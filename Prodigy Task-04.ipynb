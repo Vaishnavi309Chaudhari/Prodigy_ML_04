{
 "cells": [
  {
   "cell_type": "markdown",
   "id": "79914992",
   "metadata": {},
   "source": [
    "### Task 04:\n",
    "Develop a hand gesture recognition model that can accurately identify and classify different hand gestures from image or video data, enabling intuitive human-computer interaction and gesture-based control systems."
   ]
  },
  {
   "cell_type": "markdown",
   "id": "07f4af20",
   "metadata": {},
   "source": [
    "dataset- https://www.kaggle.com/gti-upm/leapgestrecog "
   ]
  },
  {
   "cell_type": "markdown",
   "id": "7797afd4",
   "metadata": {},
   "source": [
    "#### Importing Libraries and Loading Data"
   ]
  },
  {
   "cell_type": "code",
   "execution_count": 1,
   "id": "a4059a6b",
   "metadata": {},
   "outputs": [],
   "source": [
    "import warnings\n",
    "warnings.filterwarnings('ignore')\n",
    "\n",
    "import keras\n",
    "import matplotlib.pyplot as plt # for plotting\n",
    "import os # provides a way of using operating system dependent functionality\n",
    "import cv2 #Image handling library\n",
    "import numpy as np\n",
    "\n",
    "# Import of keras model and hidden layers for our convolutional network\n",
    "from keras.layers import Conv2D, Activation, MaxPool2D, Dense, Flatten, Dropout"
   ]
  },
  {
   "cell_type": "markdown",
   "id": "846c21be",
   "metadata": {},
   "source": [
    "#### Loading and Preprocessing Data"
   ]
  },
  {
   "cell_type": "code",
   "execution_count": 9,
   "id": "90529fd2",
   "metadata": {},
   "outputs": [],
   "source": [
    "CATEGORIES = [\"01_palm\", '02_l','03_fist','04_fist_moved','05_thumb','06_index','07_ok','08_palm_moved','09_c','10_down']\n",
    "IMG_SIZE = 50\n",
    "\n",
    "# paths for dataset\n",
    "data_path = r\"‪C:\\Users\\vaish\\Downloads\\archive (5)\""
   ]
  },
  {
   "cell_type": "code",
   "execution_count": 12,
   "id": "97a9048e",
   "metadata": {},
   "outputs": [
    {
     "ename": "OSError",
     "evalue": "[WinError 123] The filename, directory name, or volume label syntax is incorrect: '\\u202aC:\\\\Users\\\\vaish\\\\Downloads\\\\archive (5)'",
     "output_type": "error",
     "traceback": [
      "\u001b[1;31m---------------------------------------------------------------------------\u001b[0m",
      "\u001b[1;31mOSError\u001b[0m                                   Traceback (most recent call last)",
      "Cell \u001b[1;32mIn[12], line 6\u001b[0m\n\u001b[0;32m      4\u001b[0m \u001b[38;5;66;03m# Loading the images and their class(0 - 9)\u001b[39;00m\n\u001b[0;32m      5\u001b[0m image_data \u001b[38;5;241m=\u001b[39m []\n\u001b[1;32m----> 6\u001b[0m \u001b[38;5;28;01mfor\u001b[39;00m dr \u001b[38;5;129;01min\u001b[39;00m os\u001b[38;5;241m.\u001b[39mlistdir(data_path):\n\u001b[0;32m      7\u001b[0m     \u001b[38;5;28;01mfor\u001b[39;00m category \u001b[38;5;129;01min\u001b[39;00m CATEGORIES:\n\u001b[0;32m      8\u001b[0m         class_index \u001b[38;5;241m=\u001b[39m CATEGORIES\u001b[38;5;241m.\u001b[39mindex(category)\n",
      "\u001b[1;31mOSError\u001b[0m: [WinError 123] The filename, directory name, or volume label syntax is incorrect: '\\u202aC:\\\\Users\\\\vaish\\\\Downloads\\\\archive (5)'"
     ]
    }
   ],
   "source": [
    "import os\n",
    "import cv2\n",
    "\n",
    "# Loading the images and their class(0 - 9)\n",
    "image_data = []\n",
    "for dr in os.listdir(data_path):\n",
    "    for category in CATEGORIES:\n",
    "        class_index = CATEGORIES.index(category)\n",
    "        path = os.path.join(data_path, dr, category)\n",
    "        for img in os.listdir(path):\n",
    "            try:\n",
    "                img_arr = cv2.imread(os.path.join(path, img), cv2.IMREAD_GRAYSCALE)\n",
    "                image_data.append([cv2.resize(img_arr, (IMG_SIZE, IMG_SIZE)), class_index])\n",
    "            except Exception as e:\n",
    "                pass\n",
    "\n",
    "# Accessing the first element in the image_data list\n",
    "print(image_data[0])\n"
   ]
  },
  {
   "cell_type": "code",
   "execution_count": null,
   "id": "09085998",
   "metadata": {},
   "outputs": [],
   "source": []
  },
  {
   "cell_type": "code",
   "execution_count": null,
   "id": "90177d17",
   "metadata": {},
   "outputs": [],
   "source": []
  },
  {
   "cell_type": "code",
   "execution_count": null,
   "id": "75f46c77",
   "metadata": {},
   "outputs": [],
   "source": []
  },
  {
   "cell_type": "code",
   "execution_count": null,
   "id": "df9a7dd6",
   "metadata": {},
   "outputs": [],
   "source": []
  },
  {
   "cell_type": "code",
   "execution_count": null,
   "id": "c8c2dc3e",
   "metadata": {},
   "outputs": [],
   "source": []
  },
  {
   "cell_type": "code",
   "execution_count": null,
   "id": "5a157076",
   "metadata": {},
   "outputs": [],
   "source": []
  },
  {
   "cell_type": "code",
   "execution_count": null,
   "id": "d06c279c",
   "metadata": {},
   "outputs": [],
   "source": []
  },
  {
   "cell_type": "code",
   "execution_count": null,
   "id": "d0a6d3ac",
   "metadata": {},
   "outputs": [],
   "source": []
  },
  {
   "cell_type": "code",
   "execution_count": null,
   "id": "77963987",
   "metadata": {},
   "outputs": [],
   "source": []
  },
  {
   "cell_type": "code",
   "execution_count": null,
   "id": "c95b2acc",
   "metadata": {},
   "outputs": [],
   "source": []
  },
  {
   "cell_type": "code",
   "execution_count": null,
   "id": "83f2939d",
   "metadata": {},
   "outputs": [],
   "source": []
  },
  {
   "cell_type": "code",
   "execution_count": null,
   "id": "cb20acb0",
   "metadata": {},
   "outputs": [],
   "source": []
  },
  {
   "cell_type": "code",
   "execution_count": null,
   "id": "b8fa9315",
   "metadata": {},
   "outputs": [],
   "source": []
  },
  {
   "cell_type": "code",
   "execution_count": null,
   "id": "03d76c4f",
   "metadata": {},
   "outputs": [],
   "source": []
  },
  {
   "cell_type": "code",
   "execution_count": null,
   "id": "2bffc8fd",
   "metadata": {},
   "outputs": [],
   "source": []
  },
  {
   "cell_type": "code",
   "execution_count": null,
   "id": "f150cbfb",
   "metadata": {},
   "outputs": [],
   "source": []
  },
  {
   "cell_type": "code",
   "execution_count": null,
   "id": "ce311ebe",
   "metadata": {},
   "outputs": [],
   "source": []
  },
  {
   "cell_type": "code",
   "execution_count": null,
   "id": "840f15da",
   "metadata": {},
   "outputs": [],
   "source": []
  },
  {
   "cell_type": "code",
   "execution_count": null,
   "id": "05894654",
   "metadata": {},
   "outputs": [],
   "source": []
  }
 ],
 "metadata": {
  "kernelspec": {
   "display_name": "Python 3 (ipykernel)",
   "language": "python",
   "name": "python3"
  },
  "language_info": {
   "codemirror_mode": {
    "name": "ipython",
    "version": 3
   },
   "file_extension": ".py",
   "mimetype": "text/x-python",
   "name": "python",
   "nbconvert_exporter": "python",
   "pygments_lexer": "ipython3",
   "version": "3.11.5"
  }
 },
 "nbformat": 4,
 "nbformat_minor": 5
}
